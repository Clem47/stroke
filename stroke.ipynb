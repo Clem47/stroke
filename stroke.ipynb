{
 "cells": [
  {
   "attachments": {},
   "cell_type": "markdown",
   "metadata": {},
   "source": [
    "# TD Méthodes d'apprentissage\n",
    "\n",
    "Merci de renseigner votre groupe:\n",
    "\n",
    "* Loïc LEVEQUE\n",
    "* Clément CRISPEL\n",
    "* Amaury ARCHAMBAUD"
   ]
  },
  {
   "attachments": {},
   "cell_type": "markdown",
   "metadata": {},
   "source": [
    "# Prédiction d'AVC\n",
    "\n",
    "Vous trouverez dans cette archive un jeu de données (`healthcare-dataset-stroke-data.csv` -\n",
    "[source](https://www.kaggle.com/datasets/fedesoriano/stroke-prediction-dataset)) portant sur des patients suspecté\n",
    "d'avoir eu un AVC.\n",
    "\n",
    "Les colonnes suivantes sont renseignées:\n",
    "\n",
    "* `gender`: le genre (`Male`, `Female` ou `Other`) du patient,\n",
    "* `age`: l'age du patient,\n",
    "* `hypertension`: 0 si le patient n'a pas d'hypertension, 1 sinon,\n",
    "* `hear_disease`: 0 si le patient n'a jamais eu de maladie cardiaque, 1 sinon,\n",
    "* `ever_married`: `No` ou `Yes` si le patient a déjà été marié,\n",
    "* `work_type`: l'emploi du patient (`children`, `Govt_job`, `Never_worked`, `Private` or `Self-employed`),\n",
    "* `Residence_type`: `rural` ou `urbain`,\n",
    "* `avg_glucose_level`: le niveau de glucose dans le sang,\n",
    "* `bmi`: l'IMC (*body mass index*),\n",
    "* `smoking_status`: selon si le patient fume: `formerly smoked`, `never smoked` `smokes` or `Unknown`,\n",
    "* `stroke`: 1 si le patient a un AVC, 0 sinon (la variable que l'on souhaite prédire)."
   ]
  },
  {
   "cell_type": "markdown",
   "metadata": {},
   "source": [
    "## 1. Chargement des données\n",
    "\n",
    "### 1.1 Chargez les données:"
   ]
  },
  {
   "cell_type": "code",
   "execution_count": 182,
   "metadata": {},
   "outputs": [],
   "source": [
    "import pandas as pd\n",
    "\n",
    "df = pd.read_csv('healthcare-dataset-stroke-data.csv')"
   ]
  },
  {
   "cell_type": "markdown",
   "metadata": {},
   "source": [
    "### 1.2 Le nombre de lignes qu'elles contiennent:"
   ]
  },
  {
   "cell_type": "code",
   "execution_count": 173,
   "metadata": {},
   "outputs": [
    {
     "name": "stdout",
     "output_type": "stream",
     "text": [
      "Nombre de lignes :  5110\n"
     ]
    }
   ],
   "source": [
    "taille = len(df)\n",
    "print(\"Nombre de lignes : \", taille)"
   ]
  },
  {
   "cell_type": "markdown",
   "metadata": {},
   "source": [
    "### 1.3 Le % de personnes qui ont eu un AVC"
   ]
  },
  {
   "cell_type": "code",
   "execution_count": 174,
   "metadata": {},
   "outputs": [
    {
     "name": "stdout",
     "output_type": "stream",
     "text": [
      "4.87 % des personnes ont eu un AVC\n"
     ]
    }
   ],
   "source": [
    "avc = df[df['stroke'] == 1]\n",
    "print(round(len(avc)/taille*100,2), \"% des personnes ont eu un AVC\")"
   ]
  },
  {
   "cell_type": "markdown",
   "metadata": {},
   "source": [
    "### 1.4 Le % d'hommes et le % de femmes qui ont eu un AVC"
   ]
  },
  {
   "cell_type": "code",
   "execution_count": 175,
   "metadata": {},
   "outputs": [
    {
     "name": "stdout",
     "output_type": "stream",
     "text": [
      "43.37 % des personnes ayant eu un AVC sont des hommes\n",
      "56.63 % des personnes ayant eu un AVC sont des femmes\n"
     ]
    }
   ],
   "source": [
    "nB_hommes_avc = len(avc[avc[\"gender\"] == 'Male'])\n",
    "nb_femmes_avc = len(avc[avc[\"gender\"] == 'Female'])\n",
    "print(round(nB_hommes_avc/len(avc)*100,2), \"% des personnes ayant eu un AVC sont des hommes\")\n",
    "print(round(nb_femmes_avc/len(avc)*100,2), \"% des personnes ayant eu un AVC sont des femmes\")"
   ]
  },
  {
   "cell_type": "markdown",
   "metadata": {},
   "source": [
    "### 1.5 Un histogramme des ages, pour les personnes ayant eu un AVC et celles n'ayant pas eu d'AVC:"
   ]
  },
  {
   "cell_type": "code",
   "execution_count": 176,
   "metadata": {},
   "outputs": [
    {
     "ename": "TypeError",
     "evalue": "'str' object is not callable",
     "output_type": "error",
     "traceback": [
      "\u001b[1;31m---------------------------------------------------------------------------\u001b[0m",
      "\u001b[1;31mTypeError\u001b[0m                                 Traceback (most recent call last)",
      "\u001b[1;32mc:\\Users\\loicl\\OneDrive\\Bureau\\s4Rob\\stroke\\stroke.ipynb Cell 12\u001b[0m in \u001b[0;36m<cell line: 4>\u001b[1;34m()\u001b[0m\n\u001b[0;32m      <a href='vscode-notebook-cell:/c%3A/Users/loicl/OneDrive/Bureau/s4Rob/stroke/stroke.ipynb#X14sZmlsZQ%3D%3D?line=1'>2</a>\u001b[0m age \u001b[39m=\u001b[39m df\u001b[39m.\u001b[39mloc[df[\u001b[39m\"\u001b[39m\u001b[39mstroke\u001b[39m\u001b[39m\"\u001b[39m] \u001b[39m==\u001b[39m \u001b[39m1\u001b[39m]\u001b[39m.\u001b[39mgroupby(by\u001b[39m=\u001b[39m\u001b[39m'\u001b[39m\u001b[39mage\u001b[39m\u001b[39m'\u001b[39m)[\u001b[39m'\u001b[39m\u001b[39mstroke\u001b[39m\u001b[39m'\u001b[39m]\u001b[39m.\u001b[39msum()\n\u001b[0;32m      <a href='vscode-notebook-cell:/c%3A/Users/loicl/OneDrive/Bureau/s4Rob/stroke/stroke.ipynb#X14sZmlsZQ%3D%3D?line=2'>3</a>\u001b[0m plt\u001b[39m.\u001b[39mbar(age\u001b[39m.\u001b[39mindex, age\u001b[39m.\u001b[39mvalues)\n\u001b[1;32m----> <a href='vscode-notebook-cell:/c%3A/Users/loicl/OneDrive/Bureau/s4Rob/stroke/stroke.ipynb#X14sZmlsZQ%3D%3D?line=3'>4</a>\u001b[0m plt\u001b[39m.\u001b[39;49mtitle(\u001b[39m\"\u001b[39;49m\u001b[39mNombre de personnes ayant eu un AVC par age\u001b[39;49m\u001b[39m\"\u001b[39;49m)\n\u001b[0;32m      <a href='vscode-notebook-cell:/c%3A/Users/loicl/OneDrive/Bureau/s4Rob/stroke/stroke.ipynb#X14sZmlsZQ%3D%3D?line=4'>5</a>\u001b[0m plt\u001b[39m.\u001b[39mshow()\n\u001b[0;32m      <a href='vscode-notebook-cell:/c%3A/Users/loicl/OneDrive/Bureau/s4Rob/stroke/stroke.ipynb#X14sZmlsZQ%3D%3D?line=6'>7</a>\u001b[0m age \u001b[39m=\u001b[39m df[df[\u001b[39m\"\u001b[39m\u001b[39mstroke\u001b[39m\u001b[39m\"\u001b[39m] \u001b[39m==\u001b[39m \u001b[39m0\u001b[39m]\u001b[39m.\u001b[39mgroupby(by\u001b[39m=\u001b[39m\u001b[39m'\u001b[39m\u001b[39mage\u001b[39m\u001b[39m'\u001b[39m)[\u001b[39m\"\u001b[39m\u001b[39mstroke\u001b[39m\u001b[39m\"\u001b[39m]\u001b[39m.\u001b[39mcount()\n",
      "\u001b[1;31mTypeError\u001b[0m: 'str' object is not callable"
     ]
    },
    {
     "data": {
      "image/png": "[encoded data removed]",
      "text/plain": [
       "<Figure size 432x288 with 1 Axes>"
      ]
     },
     "metadata": {
      "needs_background": "light"
     },
     "output_type": "display_data"
    }
   ],
   "source": [
    "import matplotlib.pyplot as plt\n",
    "age = df.loc[df[\"stroke\"] == 1].groupby(by='age')['stroke'].sum()\n",
    "plt.bar(age.index, age.values)\n",
    "plt.title(\"Nombre de personnes ayant eu un AVC par age\")\n",
    "plt.show()\n",
    "\n",
    "age = df[df[\"stroke\"] == 0].groupby(by='age')[\"stroke\"].count()\n",
    "plt.bar(age.index, age.values)\n",
    "plt.title=\"Nombre de personnes n'ayant pas eu d'AVC par age\"\n",
    "plt.show()\n"
   ]
  },
  {
   "cell_type": "markdown",
   "metadata": {},
   "source": [
    "## 2. Moindres carrés\n",
    "\n",
    "### 2.1 `age` vs `bmi`\n",
    "\n",
    "Tracez le graphique (en nuage de points) ayant en abscisse l'age et en ordonnées l'indice de masse corporel (`bmi`):"
   ]
  },
  {
   "cell_type": "code",
   "execution_count": null,
   "metadata": {},
   "outputs": [
    {
     "data": {
      "image/png": "[encoded data removed]",
      "text/plain": [
       "<Figure size 432x288 with 1 Axes>"
      ]
     },
     "metadata": {
      "needs_background": "light"
     },
     "output_type": "display_data"
    }
   ],
   "source": [
    "cache = df.dropna()\n",
    "ages = cache[\"age\"] \n",
    "bmi = cache[\"bmi\"]\n",
    "plt.plot(df[\"age\"], df[\"bmi\"], 'o')\n",
    "plt.show()"
   ]
  },
  {
   "cell_type": "markdown",
   "metadata": {},
   "source": [
    "### 2.2 Modèle linéaire\n",
    "\n",
    "À partir de la courbe ci-dessus, trouvez les paramètres $f(x) = ax + b$ optimums au sens des moindres carrés"
   ]
  },
  {
   "cell_type": "code",
   "execution_count": null,
   "metadata": {},
   "outputs": [
    {
     "name": "stdout",
     "output_type": "stream",
     "text": [
      "a =  0.11609473538787873\n",
      "b =  23.91679268280749\n"
     ]
    }
   ],
   "source": [
    "import numpy as np\n",
    "\n",
    "sum_x = np.sum(ages)\n",
    "sum_y = np.sum(bmi) \n",
    "sum_xy = np.sum(ages * bmi)\n",
    "sum_x2 = np.sum(ages**2)\n",
    "\n",
    "w1 = (sum_xy - (1/len(ages)) * sum_x * sum_y) / (sum_x2 - (1/len(ages)) * sum_x**2)\n",
    "w2 = (sum_y - w1 * sum_x)/len(ages)\n",
    "\n",
    "\n",
    "\n",
    "print(\"a = \", w1)\n",
    "print(\"b = \", w2)"
   ]
  },
  {
   "cell_type": "markdown",
   "metadata": {},
   "source": [
    "Tracez à nouveau le nuage de point, en superposant la courbe trouvée"
   ]
  },
  {
   "cell_type": "code",
   "execution_count": null,
   "metadata": {},
   "outputs": [
    {
     "data": {
      "image/png": "[encoded data removed]",
      "text/plain": [
       "<Figure size 432x288 with 1 Axes>"
      ]
     },
     "metadata": {
      "needs_background": "light"
     },
     "output_type": "display_data"
    }
   ],
   "source": [
    "plt.plot(ages,bmi,'o')\n",
    "plt.plot(ages,w1*ages+w2)\n",
    "plt.show()"
   ]
  },
  {
   "attachments": {},
   "cell_type": "markdown",
   "metadata": {},
   "source": [
    "Que pensez vous du résultat ?\n",
    "\n",
    "Il est bien"
   ]
  },
  {
   "cell_type": "markdown",
   "metadata": {},
   "source": [
    "### 2.3 Modèle quadratique\n",
    "\n",
    "Faites la même chose, mais pour le modèle $f(x) = ax^2 + bx + c$"
   ]
  },
  {
   "cell_type": "code",
   "execution_count": null,
   "metadata": {},
   "outputs": [
    {
     "name": "stdout",
     "output_type": "stream",
     "text": [
      "a=-0.005557771740837978, b=0.577646642918175 , c=17.171118344898257\n"
     ]
    },
    {
     "data": {
      "image/png": "[encoded data removed]",
      "text/plain": [
       "<Figure size 432x288 with 1 Axes>"
      ]
     },
     "metadata": {
      "needs_background": "light"
     },
     "output_type": "display_data"
    },
    {
     "name": "stdout",
     "output_type": "stream",
     "text": [
      "L'age a partir du quel l'IMC commence a diminué est :  52\n"
     ]
    }
   ],
   "source": [
    "A = np.array([\n",
    "    [xi**2, xi ,1] \n",
    "    for xi in ages\n",
    "])\n",
    "b = bmi\n",
    "w1, w2 , w3 = np.linalg.pinv(A) @ b\n",
    "print(f\"a={w1}, b={w2} , c={w3}\")\n",
    "\n",
    "y = w1*ages**2+w2*ages+w3\n",
    "\n",
    "plt.plot(ages,bmi,'.')\n",
    "plt.plot(ages,y,\".\")\n",
    "plt.show()\n",
    "\n",
    "max_age = 0\n",
    "d = 2*w1*max_age + w2\n",
    "while(d > 0):\n",
    "    max_age += 1\n",
    "    d = 2*w1*max_age + w2\n",
    "\n",
    "print(\"L'age a partir du quel l'IMC commence a diminué est : \", max_age)\n"
   ]
  },
  {
   "cell_type": "markdown",
   "metadata": {},
   "source": [
    "*Vous devriez constater trois \"phases\": l'IMC monte (avec la croissance), puis stagne, et enfin baisse.*\n",
    "\n",
    "**À partir de votre modèle, déterminez à quel age l'IMC cesse de monter et commence à baisser.**\n",
    "\n",
    "\n",
    "\n",
    "Par observation on peut constater que l'IMC inverse sa tendance et commence à baisser aux alentours des 50 ans.\n",
    "On obtient par le calcul l'age exact qui est de 52 ans"
   ]
  },
  {
   "cell_type": "markdown",
   "metadata": {},
   "source": [
    "## 3. Prédiction des AVC\n",
    "\n"
   ]
  },
  {
   "cell_type": "markdown",
   "metadata": {},
   "source": [
    "### 3.1 Préparation des données\n",
    "\n",
    "Nous allons préparer les données, notamment:\n",
    "\n",
    "* Enlever la colonne  `id`, qui ne nous servira pas à l'entraînement,\n",
    "* À l'aide de la méthode [get_dummies](https://pandas.pydata.org/docs/reference/api/pandas.get_dummies.html), les colonnes prenant des valeurs discrètes seront remplacées par leur représentation [one hot](https://en.wikipedia.org/wiki/One-hot)\n",
    "  * *Par exemple, au lieu de la colonne `gender` qui pourra valoir `Male` ou `Female`, on aura `gender_Male` et `gender_Female` qui pourront valoir 0 ou 1.*"
   ]
  },
  {
   "cell_type": "code",
   "execution_count": 183,
   "metadata": {},
   "outputs": [
    {
     "name": "stdout",
     "output_type": "stream",
     "text": [
      "           age  hypertension  heart_disease  avg_glucose_level       bmi  \\\n",
      "0     1.070029             0              1           2.777415  0.981245   \n",
      "2     1.646395             0              1           0.013840  0.459222   \n",
      "3     0.271984             0              0           1.483980  0.701135   \n",
      "4     1.602059             1              0           1.549035 -0.623020   \n",
      "5     1.690731             0              0           1.821183  0.013593   \n",
      "...        ...           ...            ...                ...       ...   \n",
      "5104 -1.324106             0              0          -0.050089 -1.310561   \n",
      "5106  1.690731             0              0           0.447837  1.414142   \n",
      "5107 -0.348718             0              0          -0.502318  0.217309   \n",
      "5108  0.360655             0              0           1.372780 -0.419303   \n",
      "5109  0.050305             0              0          -0.450770 -0.342910   \n",
      "\n",
      "      gender_Female  gender_Male  gender_Other  ever_married_No  \\\n",
      "0                 0            1             0                0   \n",
      "2                 0            1             0                0   \n",
      "3                 1            0             0                0   \n",
      "4                 1            0             0                0   \n",
      "5                 0            1             0                0   \n",
      "...             ...          ...           ...              ...   \n",
      "5104              1            0             0                1   \n",
      "5106              1            0             0                0   \n",
      "5107              1            0             0                0   \n",
      "5108              0            1             0                0   \n",
      "5109              1            0             0                0   \n",
      "\n",
      "      ever_married_Yes  ...  work_type_Never_worked  work_type_Private  \\\n",
      "0                    1  ...                       0                  1   \n",
      "2                    1  ...                       0                  1   \n",
      "3                    1  ...                       0                  1   \n",
      "4                    1  ...                       0                  0   \n",
      "5                    1  ...                       0                  1   \n",
      "...                ...  ...                     ...                ...   \n",
      "5104                 0  ...                       0                  0   \n",
      "5106                 1  ...                       0                  0   \n",
      "5107                 1  ...                       0                  0   \n",
      "5108                 1  ...                       0                  1   \n",
      "5109                 1  ...                       0                  0   \n",
      "\n",
      "      work_type_Self-employed  work_type_children  Residence_type_Rural  \\\n",
      "0                           0                   0                     0   \n",
      "2                           0                   0                     1   \n",
      "3                           0                   0                     0   \n",
      "4                           1                   0                     1   \n",
      "5                           0                   0                     0   \n",
      "...                       ...                 ...                   ...   \n",
      "5104                        0                   1                     1   \n",
      "5106                        1                   0                     0   \n",
      "5107                        1                   0                     1   \n",
      "5108                        0                   0                     1   \n",
      "5109                        0                   0                     0   \n",
      "\n",
      "      Residence_type_Urban  smoking_status_Unknown  \\\n",
      "0                        1                       0   \n",
      "2                        0                       0   \n",
      "3                        1                       0   \n",
      "4                        0                       0   \n",
      "5                        1                       0   \n",
      "...                    ...                     ...   \n",
      "5104                     0                       1   \n",
      "5106                     1                       0   \n",
      "5107                     0                       0   \n",
      "5108                     0                       0   \n",
      "5109                     1                       1   \n",
      "\n",
      "      smoking_status_formerly smoked  smoking_status_never smoked  \\\n",
      "0                                  1                            0   \n",
      "2                                  0                            1   \n",
      "3                                  0                            0   \n",
      "4                                  0                            1   \n",
      "5                                  1                            0   \n",
      "...                              ...                          ...   \n",
      "5104                               0                            0   \n",
      "5106                               0                            1   \n",
      "5107                               0                            1   \n",
      "5108                               1                            0   \n",
      "5109                               0                            0   \n",
      "\n",
      "      smoking_status_smokes  \n",
      "0                         0  \n",
      "2                         0  \n",
      "3                         1  \n",
      "4                         0  \n",
      "5                         0  \n",
      "...                     ...  \n",
      "5104                      0  \n",
      "5106                      0  \n",
      "5107                      0  \n",
      "5108                      0  \n",
      "5109                      0  \n",
      "\n",
      "[4909 rows x 21 columns]\n"
     ]
    }
   ],
   "source": [
    "df = pd.get_dummies(df)\n",
    "df = df.dropna()\n",
    "df = df.drop(columns=[\"id\"])\n",
    "stroke = df[\"stroke\"]\n",
    "df = df.drop(columns=[\"stroke\"])\n",
    "df['age'] =( df['age'] - df['age'].mean() ) / df['age'].std()\n",
    "df['bmi'] =( df[\"bmi\"] - df[\"bmi\"].mean() ) / df[\"bmi\"].std()\n",
    "df[\"avg_glucose_level\"] =( df['avg_glucose_level'] - df['avg_glucose_level'].mean() ) / df['avg_glucose_level'].std()\n",
    "\n",
    "\n",
    "\n",
    "\n",
    "print(df)"
   ]
  },
  {
   "cell_type": "markdown",
   "metadata": {},
   "source": [
    "### 3.1 Séparation des données d'entraînement / test\n",
    "\n",
    "Maintenant, nous allons séparer ces données en:\n",
    "\n",
    "* Un jeu d'entraînement (90%),\n",
    "* Un jeu de test (10%).\n",
    "\n",
    "[indication](https://stackoverflow.com/a/35531218/3776931)"
   ]
  },
  {
   "cell_type": "code",
   "execution_count": 184,
   "metadata": {},
   "outputs": [
    {
     "name": "stdout",
     "output_type": "stream",
     "text": [
      "Nombre de lignes dans le train :  4418\n",
      "Nombre de lignes dans le test :  491\n"
     ]
    }
   ],
   "source": [
    "trainX=df.sample(frac=0.9,random_state=200)\n",
    "trainY=stroke[trainX.index]\n",
    "testX=df.drop(train.index)\n",
    "testY=stroke[testX.index]\n",
    "\n",
    "print(\"Nombre de lignes dans le train : \", len(train))\n",
    "print(\"Nombre de lignes dans le test : \", len(test))\n"
   ]
  },
  {
   "cell_type": "markdown",
   "metadata": {},
   "source": []
  },
  {
   "cell_type": "code",
   "execution_count": null,
   "metadata": {},
   "outputs": [],
   "source": []
  },
  {
   "cell_type": "markdown",
   "metadata": {},
   "source": [
    "### 3.3 Chargement de `torch`\n",
    "\n",
    "On chargera `torch`, et on déclarera un perceptron multi-couche avec deux couches cachées:"
   ]
  },
  {
   "cell_type": "code",
   "execution_count": 185,
   "metadata": {},
   "outputs": [],
   "source": [
    "import torch as th\n",
    "\n",
    "\n",
    "class MLP(th.nn.Module):\n",
    "    def __init__(self, input_dimension: int):\n",
    "        super().__init__()\n",
    "\n",
    "        layers = [\n",
    "            th.nn.Linear(input_dimension, 128),\n",
    "            th.nn.ReLU(),\n",
    "            th.nn.Linear(128, 128),\n",
    "            th.nn.ReLU(),\n",
    "            th.nn.Linear(128, 1),\n",
    "            th.nn.Sigmoid()\n",
    "        ]\n",
    "\n",
    "        self.net = th.nn.Sequential(*layers)\n",
    "\n",
    "    def forward(self, x):\n",
    "        return self.net(x)\n"
   ]
  },
  {
   "cell_type": "markdown",
   "metadata": {},
   "source": [
    "Notez que la sortie de ce réseau est une fonction d'activation (sigmoïde) qui produira une valeur entre 0 et 1.\n",
    "\n",
    "Créez maintenant votre réseau en définissant son nombre d'entrées:"
   ]
  },
  {
   "cell_type": "code",
   "execution_count": 186,
   "metadata": {},
   "outputs": [],
   "source": [
    "net = MLP(21)"
   ]
  },
  {
   "cell_type": "markdown",
   "metadata": {},
   "source": [
    "### 3.4: Échantillonage des données\n",
    "\n",
    "Écrivez une fonction qui sélectionne au hasard N lignes des données d'entraînement:\n",
    "\n"
   ]
  },
  {
   "cell_type": "code",
   "execution_count": 200,
   "metadata": {},
   "outputs": [
    {
     "ename": "AttributeError",
     "evalue": "'numpy.ndarray' object has no attribute 'float'",
     "output_type": "error",
     "traceback": [
      "\u001b[1;31m---------------------------------------------------------------------------\u001b[0m",
      "\u001b[1;31mAttributeError\u001b[0m                            Traceback (most recent call last)",
      "\u001b[1;32mc:\\Users\\loicl\\OneDrive\\Bureau\\s4Rob\\stroke\\stroke.ipynb Cell 35\u001b[0m in \u001b[0;36m<cell line: 11>\u001b[1;34m()\u001b[0m\n\u001b[0;32m      <a href='vscode-notebook-cell:/c%3A/Users/loicl/OneDrive/Bureau/s4Rob/stroke/stroke.ipynb#X46sZmlsZQ%3D%3D?line=7'>8</a>\u001b[0m     y \u001b[39m=\u001b[39m trainY[x\u001b[39m.\u001b[39mindex]\u001b[39m.\u001b[39mvalues\u001b[39m.\u001b[39mfloat()\n\u001b[0;32m      <a href='vscode-notebook-cell:/c%3A/Users/loicl/OneDrive/Bureau/s4Rob/stroke/stroke.ipynb#X46sZmlsZQ%3D%3D?line=8'>9</a>\u001b[0m     \u001b[39mreturn\u001b[39;00m x,y\n\u001b[1;32m---> <a href='vscode-notebook-cell:/c%3A/Users/loicl/OneDrive/Bureau/s4Rob/stroke/stroke.ipynb#X46sZmlsZQ%3D%3D?line=10'>11</a>\u001b[0m sample_data()\n",
      "\u001b[1;32mc:\\Users\\loicl\\OneDrive\\Bureau\\s4Rob\\stroke\\stroke.ipynb Cell 35\u001b[0m in \u001b[0;36msample_data\u001b[1;34m(n)\u001b[0m\n\u001b[0;32m      <a href='vscode-notebook-cell:/c%3A/Users/loicl/OneDrive/Bureau/s4Rob/stroke/stroke.ipynb#X46sZmlsZQ%3D%3D?line=0'>1</a>\u001b[0m \u001b[39mdef\u001b[39;00m \u001b[39msample_data\u001b[39m(n\u001b[39m=\u001b[39m\u001b[39m128\u001b[39m):\n\u001b[0;32m      <a href='vscode-notebook-cell:/c%3A/Users/loicl/OneDrive/Bureau/s4Rob/stroke/stroke.ipynb#X46sZmlsZQ%3D%3D?line=1'>2</a>\u001b[0m \n\u001b[0;32m      <a href='vscode-notebook-cell:/c%3A/Users/loicl/OneDrive/Bureau/s4Rob/stroke/stroke.ipynb#X46sZmlsZQ%3D%3D?line=2'>3</a>\u001b[0m     \u001b[39m# TODO: extraire 128 lignes au hasard des données d'entraînement\u001b[39;00m\n\u001b[0;32m      <a href='vscode-notebook-cell:/c%3A/Users/loicl/OneDrive/Bureau/s4Rob/stroke/stroke.ipynb#X46sZmlsZQ%3D%3D?line=3'>4</a>\u001b[0m     \u001b[39m# - ages devrait être de taille n x nb_valeurs\u001b[39;00m\n\u001b[0;32m      <a href='vscode-notebook-cell:/c%3A/Users/loicl/OneDrive/Bureau/s4Rob/stroke/stroke.ipynb#X46sZmlsZQ%3D%3D?line=4'>5</a>\u001b[0m     \u001b[39m# - bmi devrait être de taille n\u001b[39;00m\n\u001b[0;32m      <a href='vscode-notebook-cell:/c%3A/Users/loicl/OneDrive/Bureau/s4Rob/stroke/stroke.ipynb#X46sZmlsZQ%3D%3D?line=6'>7</a>\u001b[0m     x \u001b[39m=\u001b[39m trainX\u001b[39m.\u001b[39msample(n\u001b[39m=\u001b[39mn)\n\u001b[1;32m----> <a href='vscode-notebook-cell:/c%3A/Users/loicl/OneDrive/Bureau/s4Rob/stroke/stroke.ipynb#X46sZmlsZQ%3D%3D?line=7'>8</a>\u001b[0m     y \u001b[39m=\u001b[39m trainY[x\u001b[39m.\u001b[39;49mindex]\u001b[39m.\u001b[39;49mvalues\u001b[39m.\u001b[39;49mfloat()\n\u001b[0;32m      <a href='vscode-notebook-cell:/c%3A/Users/loicl/OneDrive/Bureau/s4Rob/stroke/stroke.ipynb#X46sZmlsZQ%3D%3D?line=8'>9</a>\u001b[0m     \u001b[39mreturn\u001b[39;00m x,y\n",
      "\u001b[1;31mAttributeError\u001b[0m: 'numpy.ndarray' object has no attribute 'float'"
     ]
    }
   ],
   "source": [
    "def sample_data(n=128):\n",
    "\n",
    "    # TODO: extraire 128 lignes au hasard des données d'entraînement\n",
    "    # - ages devrait être de taille n x nb_valeurs\n",
    "    # - bmi devrait être de taille n\n",
    "    \n",
    "    x = trainX.sample(n=n)\n",
    "    y = trainY[x.index]\n",
    "    return x,y\n",
    "\n",
    "sample_data()"
   ]
  },
  {
   "cell_type": "markdown",
   "metadata": {},
   "source": [
    "Vous pourrez compléter le code suivant afin d'entraîner votre réseau. Vous utiliserez la perte [BCELoss](https://pytorch.org/docs/stable/generated/torch.nn.BCELoss.html):"
   ]
  },
  {
   "cell_type": "code",
   "execution_count": 199,
   "metadata": {},
   "outputs": [
    {
     "ename": "TypeError",
     "evalue": "cannot convert the series to <class 'float'>",
     "output_type": "error",
     "traceback": [
      "\u001b[1;31m---------------------------------------------------------------------------\u001b[0m",
      "\u001b[1;31mTypeError\u001b[0m                                 Traceback (most recent call last)",
      "\u001b[1;32mc:\\Users\\loicl\\OneDrive\\Bureau\\s4Rob\\stroke\\stroke.ipynb Cell 37\u001b[0m in \u001b[0;36m<cell line: 5>\u001b[1;34m()\u001b[0m\n\u001b[0;32m     <a href='vscode-notebook-cell:/c%3A/Users/loicl/OneDrive/Bureau/s4Rob/stroke/stroke.ipynb#X51sZmlsZQ%3D%3D?line=9'>10</a>\u001b[0m loss \u001b[39m=\u001b[39m th\u001b[39m.\u001b[39mnn\u001b[39m.\u001b[39mBCELoss()\n\u001b[0;32m     <a href='vscode-notebook-cell:/c%3A/Users/loicl/OneDrive/Bureau/s4Rob/stroke/stroke.ipynb#X51sZmlsZQ%3D%3D?line=10'>11</a>\u001b[0m \u001b[39minput\u001b[39m \u001b[39m=\u001b[39m th\u001b[39m.\u001b[39mtensor(data[\u001b[39m0\u001b[39m]\u001b[39m.\u001b[39mvalues)\n\u001b[1;32m---> <a href='vscode-notebook-cell:/c%3A/Users/loicl/OneDrive/Bureau/s4Rob/stroke/stroke.ipynb#X51sZmlsZQ%3D%3D?line=12'>13</a>\u001b[0m output \u001b[39m=\u001b[39m loss(net(\u001b[39minput\u001b[39m),\u001b[39mfloat\u001b[39;49m(data[\u001b[39m1\u001b[39;49m]))\n\u001b[0;32m     <a href='vscode-notebook-cell:/c%3A/Users/loicl/OneDrive/Bureau/s4Rob/stroke/stroke.ipynb#X51sZmlsZQ%3D%3D?line=13'>14</a>\u001b[0m optimizer\u001b[39m.\u001b[39mzero_grad()\n\u001b[0;32m     <a href='vscode-notebook-cell:/c%3A/Users/loicl/OneDrive/Bureau/s4Rob/stroke/stroke.ipynb#X51sZmlsZQ%3D%3D?line=14'>15</a>\u001b[0m output\u001b[39m.\u001b[39mbackward()\n",
      "File \u001b[1;32m~\\AppData\\Local\\Packages\\PythonSoftwareFoundation.Python.3.10_qbz5n2kfra8p0\\LocalCache\\local-packages\\Python310\\site-packages\\pandas\\core\\series.py:191\u001b[0m, in \u001b[0;36m_coerce_method.<locals>.wrapper\u001b[1;34m(self)\u001b[0m\n\u001b[0;32m    189\u001b[0m \u001b[39mif\u001b[39;00m \u001b[39mlen\u001b[39m(\u001b[39mself\u001b[39m) \u001b[39m==\u001b[39m \u001b[39m1\u001b[39m:\n\u001b[0;32m    190\u001b[0m     \u001b[39mreturn\u001b[39;00m converter(\u001b[39mself\u001b[39m\u001b[39m.\u001b[39miloc[\u001b[39m0\u001b[39m])\n\u001b[1;32m--> 191\u001b[0m \u001b[39mraise\u001b[39;00m \u001b[39mTypeError\u001b[39;00m(\u001b[39mf\u001b[39m\u001b[39m\"\u001b[39m\u001b[39mcannot convert the series to \u001b[39m\u001b[39m{\u001b[39;00mconverter\u001b[39m}\u001b[39;00m\u001b[39m\"\u001b[39m)\n",
      "\u001b[1;31mTypeError\u001b[0m: cannot convert the series to <class 'float'>"
     ]
    }
   ],
   "source": [
    "# Création d'un optimiseur\n",
    "optimizer = th.optim.Adam(net.parameters(), 1e-4)\n",
    "\n",
    "# Pour 1024 étapes d'entraînement\n",
    "for k in range(1024):\n",
    "    # On échantillonne 128 données\n",
    "    data = sample_data(128)\n",
    "    \n",
    "    # Fonction de perte\n",
    "    loss = th.nn.BCELoss()\n",
    "    input = th.tensor(data[0].values)\n",
    " \n",
    "    output = loss(net(input),data[1])\n",
    "    optimizer.zero_grad()\n",
    "    output.backward()\n",
    "    optimizer.step()\n",
    "    print(output)"
   ]
  },
  {
   "cell_type": "markdown",
   "metadata": {},
   "source": [
    "### 3.5: Évaluation de votre réseau\n",
    "\n",
    "En utilisant vos données de test, mesurez le % des données qui est bien étiquetée par le réseau"
   ]
  },
  {
   "cell_type": "code",
   "execution_count": null,
   "metadata": {},
   "outputs": [],
   "source": [
    "# On calcule la perte\n",
    "\n"
   ]
  },
  {
   "cell_type": "markdown",
   "metadata": {},
   "source": [
    "Calculez maintenant le % de données positives (stroke=1) et négatives (stroke=0) bien étiquetées"
   ]
  },
  {
   "cell_type": "code",
   "execution_count": null,
   "metadata": {},
   "outputs": [],
   "source": [
    "# À faire"
   ]
  },
  {
   "cell_type": "markdown",
   "metadata": {},
   "source": [
    "Calculez les nombres:\n",
    "* **TP**: Vrais positifs\n",
    "* **TN**: Vrais négatifs\n",
    "* **FP**: Faux positifs\n",
    "* **FN**: Faux négativs"
   ]
  },
  {
   "cell_type": "code",
   "execution_count": null,
   "metadata": {},
   "outputs": [],
   "source": [
    "# À faire"
   ]
  },
  {
   "attachments": {},
   "cell_type": "markdown",
   "metadata": {},
   "source": [
    "### 4. Quelques métriques\n",
    "\n",
    "On définit l'exactitude comme le % de données bien étiquetées (indépendament du fait qu'elles soient positives ou négatives).\n",
    "\n",
    "Calculez l'exactitude de votre prédiction:"
   ]
  },
  {
   "cell_type": "code",
   "execution_count": null,
   "metadata": {},
   "outputs": [],
   "source": [
    "# À faire"
   ]
  },
  {
   "attachments": {},
   "cell_type": "markdown",
   "metadata": {},
   "source": [
    "Réécrivez votre boucle d'entraînement afin de produire un graphique montrant, pour chaque étape de l'entraînement:\n",
    "\n",
    "- La loss sur le jeu de test,\n",
    "- La loss sur le jeu d'entraînement,\n",
    "- L'exactitude sur le jeu de test,\n",
    "- L'exactitude sur le jeu d'entraînement."
   ]
  },
  {
   "cell_type": "code",
   "execution_count": null,
   "metadata": {},
   "outputs": [],
   "source": [
    "# À faire"
   ]
  }
 ],
 "metadata": {
  "kernelspec": {
   "display_name": "Python 3",
   "language": "python",
   "name": "python3"
  },
  "language_info": {
   "codemirror_mode": {
    "name": "ipython",
    "version": 3
   },
   "file_extension": ".py",
   "mimetype": "text/x-python",
   "name": "python",
   "nbconvert_exporter": "python",
   "pygments_lexer": "ipython3",
   "version": "3.10.6"
  },
  "orig_nbformat": 4,
  "vscode": {
   "interpreter": {
    "hash": "e7370f93d1d0cde622a1f8e1c04877d8463912d04d973331ad4851f04de6915a"
   }
  }
 },
 "nbformat": 4,
 "nbformat_minor": 2
}
