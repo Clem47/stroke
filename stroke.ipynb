{
 "cells": [
  {
   "cell_type": "markdown",
   "metadata": {},
   "source": [
    "# TD Méthodes d'apprentissage\n",
    "\n",
    "Merci de renseigner votre groupe:\n",
    "\n",
    "* PRÉNOM NOM\n",
    "* PRÉNOM NOM"
   ]
  },
  {
   "attachments": {},
   "cell_type": "markdown",
   "metadata": {},
   "source": [
    "# Prédiction d'AVC\n",
    "\n",
    "Vous trouverez dans cette archive un jeu de données (`healthcare-dataset-stroke-data.csv` -\n",
    "[source](https://www.kaggle.com/datasets/fedesoriano/stroke-prediction-dataset)) portant sur des patients suspecté\n",
    "d'avoir eu un AVC.\n",
    "\n",
    "Les colonnes suivantes sont renseignées:\n",
    "\n",
    "* `gender`: le genre (`Male`, `Female` ou `Other`) du patient,\n",
    "* `age`: l'age du patient,\n",
    "* `hypertension`: 0 si le patient n'a pas d'hypertension, 1 sinon,\n",
    "* `hear_disease`: 0 si le patient n'a jamais eu de maladie cardiaque, 1 sinon,\n",
    "* `ever_married`: `No` ou `Yes` si le patient a déjà été marié,\n",
    "* `work_type`: l'emploi du patient (`children`, `Govt_job`, `Never_worked`, `Private` or `Self-employed`),\n",
    "* `Residence_type`: `rural` ou `urbain`,\n",
    "* `avg_glucose_level`: le niveau de glucose dans le sang,\n",
    "* `bmi`: l'IMC (*body mass index*),\n",
    "* `smoking_status`: selon si le patient fume: `formerly smoked`, `never smoked` `smokes` or `Unknown`,\n",
    "* `stroke`: 1 si le patient a un AVC, 0 sinon (la variable que l'on souhaite prédire)."
   ]
  },
  {
   "cell_type": "markdown",
   "metadata": {},
   "source": [
    "## 1. Chargement des données\n",
    "\n",
    "### 1.1 Chargez les données:"
   ]
  },
  {
   "cell_type": "code",
   "execution_count": 7,
   "metadata": {},
   "outputs": [],
   "source": [
    "import pandas\n",
    "\n",
    "# À faire"
   ]
  },
  {
   "cell_type": "markdown",
   "metadata": {},
   "source": [
    "### 1.2 Le nombre de lignes qu'elles contiennent:"
   ]
  },
  {
   "cell_type": "code",
   "execution_count": 8,
   "metadata": {},
   "outputs": [],
   "source": [
    "# À faire"
   ]
  },
  {
   "cell_type": "markdown",
   "metadata": {},
   "source": [
    "### 1.3 Le % de personnes qui ont eu un AVC"
   ]
  },
  {
   "cell_type": "code",
   "execution_count": 9,
   "metadata": {},
   "outputs": [],
   "source": [
    "# À faire"
   ]
  },
  {
   "cell_type": "markdown",
   "metadata": {},
   "source": [
    "### 1.4 Le % d'hommes et le % de femmes qui ont eu un AVC"
   ]
  },
  {
   "cell_type": "code",
   "execution_count": 10,
   "metadata": {},
   "outputs": [],
   "source": [
    "# À faire"
   ]
  },
  {
   "cell_type": "markdown",
   "metadata": {},
   "source": [
    "### 1.5 Un histogramme des ages, pour les personnes ayant eu un AVC et celles n'ayant pas eu d'AVC:"
   ]
  },
  {
   "cell_type": "code",
   "execution_count": 11,
   "metadata": {},
   "outputs": [],
   "source": [
    "# À faire"
   ]
  },
  {
   "cell_type": "markdown",
   "metadata": {},
   "source": [
    "## 2. Moindres carrés\n",
    "\n",
    "### 2.1 `age` vs `bmi`\n",
    "\n",
    "Tracez le graphique (en nuage de points) ayant en abscisse l'age et en ordonnées l'indice de masse corporel (`bmi`):"
   ]
  },
  {
   "cell_type": "code",
   "execution_count": 13,
   "metadata": {},
   "outputs": [],
   "source": [
    "# À faire"
   ]
  },
  {
   "cell_type": "markdown",
   "metadata": {},
   "source": [
    "### 2.2 Modèle linéaire\n",
    "\n",
    "À partir de la courbe ci-dessus, trouvez les paramètres $f(x) = ax + b$ optimums au sens des moindres carrés"
   ]
  },
  {
   "cell_type": "code",
   "execution_count": 14,
   "metadata": {},
   "outputs": [],
   "source": [
    "# À faire"
   ]
  },
  {
   "cell_type": "markdown",
   "metadata": {},
   "source": [
    "Tracez à nouveau le nuage de point, en superposant la courbe trouvée"
   ]
  },
  {
   "cell_type": "code",
   "execution_count": 15,
   "metadata": {},
   "outputs": [],
   "source": [
    "# À faire"
   ]
  },
  {
   "cell_type": "markdown",
   "metadata": {},
   "source": [
    "Que pensez vous du résultat ?\n",
    "\n",
    "*A COMPLETER*"
   ]
  },
  {
   "cell_type": "markdown",
   "metadata": {},
   "source": [
    "### 2.3 Modèle quadratique\n",
    "\n",
    "Faites la même chose, mais pour le modèle $f(x) = ax^2 + bx + c$"
   ]
  },
  {
   "cell_type": "code",
   "execution_count": 16,
   "metadata": {},
   "outputs": [],
   "source": [
    "# À faire"
   ]
  },
  {
   "cell_type": "markdown",
   "metadata": {},
   "source": [
    "Vous devriez constater trois \"phases\": l'IMC monte (avec la croissance), puis stagne, et enfin baisse. \n",
    "\n",
    "À partir de votre modèle, déterminez à quel age l'IMC cesse de monter et commence à baisser.\n",
    "\n",
    "*A COMPLETER*"
   ]
  },
  {
   "cell_type": "markdown",
   "metadata": {},
   "source": [
    "## 3. Prédiction des AVC\n",
    "\n"
   ]
  },
  {
   "cell_type": "markdown",
   "metadata": {},
   "source": [
    "### 3.1 Préparation des données\n",
    "\n",
    "Nous allons préparer les données, notamment:\n",
    "\n",
    "* Enlever la colonne  `id`, qui ne nous servira pas à l'entraînement,\n",
    "* À l'aide de la méthode [get_dummies](https://pandas.pydata.org/docs/reference/api/pandas.get_dummies.html), les colonnes prenant des valeurs discrètes seront remplacées par leur représentation [one hot](https://en.wikipedia.org/wiki/One-hot)\n",
    "  * *Par exemple, au lieu de la colonne `gender` qui pourra valoir `Male` ou `Female`, on aura `gender_Male` et `gender_Female` qui pourront valoir 0 ou 1.*"
   ]
  },
  {
   "cell_type": "code",
   "execution_count": 30,
   "metadata": {},
   "outputs": [],
   "source": [
    "# À faire"
   ]
  },
  {
   "cell_type": "markdown",
   "metadata": {},
   "source": [
    "### 3.1 Séparation des données d'entraînement / test\n",
    "\n",
    "Maintenant, nous allons séparer ces données en:\n",
    "\n",
    "* Un jeu d'entraînement (90%),\n",
    "* Un jeu de test (10%).\n",
    "\n",
    "[indication](https://stackoverflow.com/a/35531218/3776931)"
   ]
  },
  {
   "cell_type": "code",
   "execution_count": 17,
   "metadata": {},
   "outputs": [],
   "source": [
    "# À faire"
   ]
  },
  {
   "cell_type": "markdown",
   "metadata": {},
   "source": []
  },
  {
   "cell_type": "code",
   "execution_count": null,
   "metadata": {},
   "outputs": [],
   "source": []
  },
  {
   "cell_type": "markdown",
   "metadata": {},
   "source": [
    "### 3.3 Chargement de `torch`\n",
    "\n",
    "On chargera `torch`, et on déclarera un perceptron multi-couche avec deux couches cachées:"
   ]
  },
  {
   "cell_type": "code",
   "execution_count": 27,
   "metadata": {},
   "outputs": [],
   "source": [
    "import torch as th\n",
    "\n",
    "\n",
    "class MLP(th.nn.Module):\n",
    "    def __init__(self, input_dimension: int):\n",
    "        super().__init__()\n",
    "\n",
    "        layers = [\n",
    "            th.nn.Linear(input_dimension, 128),\n",
    "            th.nn.ReLU(),\n",
    "            th.nn.Linear(128, 128),\n",
    "            th.nn.ReLU(),\n",
    "            th.nn.Linear(128, 1),\n",
    "            th.nn.Sigmoid()\n",
    "        ]\n",
    "\n",
    "        self.net = th.nn.Sequential(*layers)\n",
    "\n",
    "    def forward(self, x):\n",
    "        return self.net(x)\n"
   ]
  },
  {
   "cell_type": "markdown",
   "metadata": {},
   "source": [
    "Notez que la sortie de ce réseau est une fonction d'activation (sigmoïde) qui produira une valeur entre 0 et 1.\n",
    "\n",
    "Créez maintenant votre réseau en définissant son nombre d'entrées:"
   ]
  },
  {
   "cell_type": "code",
   "execution_count": 29,
   "metadata": {},
   "outputs": [],
   "source": [
    "# net = MLP(nb_valeurs)"
   ]
  },
  {
   "cell_type": "markdown",
   "metadata": {},
   "source": [
    "### 3.4: Échantillonage des données\n",
    "\n",
    "Écrivez une fonction qui sélectionne au hasard N lignes des données d'entraînement:\n",
    "\n"
   ]
  },
  {
   "cell_type": "code",
   "execution_count": 33,
   "metadata": {},
   "outputs": [],
   "source": [
    "def sample_data(n=128):\n",
    "\n",
    "    # TODO: extraire 128 lignes au hasard des données d'entraînement\n",
    "    # - xs devrait être de taille n x nb_valeurs\n",
    "    # - ys devrait être de taille n\n",
    "    \n",
    "    return xs, ys"
   ]
  },
  {
   "cell_type": "markdown",
   "metadata": {},
   "source": [
    "Vous pourrez compléter le code suivant afin d'entraîner votre réseau. Vous utiliserez la perte [BCELoss](https://pytorch.org/docs/stable/generated/torch.nn.BCELoss.html):"
   ]
  },
  {
   "cell_type": "code",
   "execution_count": null,
   "metadata": {},
   "outputs": [],
   "source": [
    "# Création d'un optimiseur\n",
    "optimizer = th.optim.Adam(net.parameters(), 1e-4)\n",
    "\n",
    "# Pour 1024 étapes d'entraînement\n",
    "for k in range(1024):\n",
    "    # On échantillonne 128 données\n",
    "    data = sample_data(128)\n",
    "\n",
    "    # Fonction de perte\n",
    "    loss = ...\n",
    "\n",
    "    optimizer.zero_grad()\n",
    "    loss.backward()\n",
    "    optimizer.step()\n",
    "    print(loss)"
   ]
  },
  {
   "cell_type": "markdown",
   "metadata": {},
   "source": [
    "### 3.5: Évaluation de votre réseau\n",
    "\n",
    "En utilisant vos données de test, mesurez le % des données qui est bien étiquetée par le réseau"
   ]
  },
  {
   "cell_type": "code",
   "execution_count": 34,
   "metadata": {},
   "outputs": [],
   "source": [
    "# À faire"
   ]
  },
  {
   "cell_type": "markdown",
   "metadata": {},
   "source": [
    "Calculez maintenant le % de données positives (stroke=1) et négatives (stroke=0) bien étiquetées"
   ]
  },
  {
   "cell_type": "code",
   "execution_count": 35,
   "metadata": {},
   "outputs": [],
   "source": [
    "# À faire"
   ]
  },
  {
   "cell_type": "markdown",
   "metadata": {},
   "source": [
    "Calculez les nombres:\n",
    "* **TP**: Vrais positifs\n",
    "* **TN**: Vrais négatifs\n",
    "* **FP**: Faux positifs\n",
    "* **FN**: Faux négativs"
   ]
  },
  {
   "cell_type": "code",
   "execution_count": 37,
   "metadata": {},
   "outputs": [],
   "source": [
    "# À faire"
   ]
  },
  {
   "attachments": {},
   "cell_type": "markdown",
   "metadata": {},
   "source": [
    "### 4. Quelques métriques\n",
    "\n",
    "On définit l'exactitude comme le % de données bien étiquetées (indépendament du fait qu'elles soient positives ou négatives).\n",
    "\n",
    "Calculez l'exactitude de votre prédiction:"
   ]
  },
  {
   "cell_type": "code",
   "execution_count": 1,
   "metadata": {},
   "outputs": [],
   "source": [
    "# À faire"
   ]
  },
  {
   "attachments": {},
   "cell_type": "markdown",
   "metadata": {},
   "source": [
    "Réécrivez votre boucle d'entraînement afin de produire un graphique montrant, pour chaque étape de l'entraînement:\n",
    "\n",
    "- La loss sur le jeu de test,\n",
    "- La loss sur le jeu d'entraînement,\n",
    "- L'exactitude sur le jeu de test,\n",
    "- L'exactitude sur le jeu d'entraînement."
   ]
  },
  {
   "cell_type": "code",
   "execution_count": 2,
   "metadata": {},
   "outputs": [],
   "source": [
    "# À faire"
   ]
  }
 ],
 "metadata": {
  "kernelspec": {
   "display_name": "Python 3",
   "language": "python",
   "name": "python3"
  },
  "language_info": {
   "codemirror_mode": {
    "name": "ipython",
    "version": 3
   },
   "file_extension": ".py",
   "mimetype": "text/x-python",
   "name": "python",
   "nbconvert_exporter": "python",
   "pygments_lexer": "ipython3",
   "version": "3.10.6"
  },
  "orig_nbformat": 4,
  "vscode": {
   "interpreter": {
    "hash": "e7370f93d1d0cde622a1f8e1c04877d8463912d04d973331ad4851f04de6915a"
   }
  }
 },
 "nbformat": 4,
 "nbformat_minor": 2
}
